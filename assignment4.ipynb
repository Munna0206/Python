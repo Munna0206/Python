{
 "metadata": {
  "language_info": {
   "codemirror_mode": {
    "name": "ipython",
    "version": 3
   },
   "file_extension": ".py",
   "mimetype": "text/x-python",
   "name": "python",
   "nbconvert_exporter": "python",
   "pygments_lexer": "ipython3",
   "version": "3.7.0-final"
  },
  "orig_nbformat": 2,
  "kernelspec": {
   "name": "python37064bite9feff4af9bf43a6a743066415dccf2b",
   "display_name": "Python 3.7.0 64-bit",
   "language": "python"
  }
 },
 "nbformat": 4,
 "nbformat_minor": 2,
 "cells": [
  {
   "cell_type": "code",
   "execution_count": 1,
   "metadata": {},
   "outputs": [
    {
     "output_type": "stream",
     "name": "stdout",
     "text": [
      "1.0\n0.5\n0.3333333333333333\n0.25\n0.2\n0.16666666666666666\n0.14285714285714285\n0.125\n0.1111111111111111\n0.1\n"
     ]
    }
   ],
   "source": [
    "#using for loop prins the decimal eqivalent\n",
    "for i in range(1,11):\n",
    "    print(1/i)"
   ]
  },
  {
   "cell_type": "code",
   "execution_count": 6,
   "metadata": {},
   "outputs": [
    {
     "output_type": "stream",
     "name": "stdout",
     "text": [
      "0\n"
     ]
    }
   ],
   "source": [
    "#generate fibonacci numbers\n",
    "no=int(input(\"Enter a number\"))\n",
    "ser=[]\n",
    "ser.append(0)\n",
    "ser.append(1)\n",
    "[ser.append(ser[i-2]+ser[i-1]) for i in  range(2,no)]\n",
    "for i in range(no):\n",
    "    print(ser[i])"
   ]
  },
  {
   "cell_type": "code",
   "execution_count": 10,
   "metadata": {},
   "outputs": [
    {
     "output_type": "stream",
     "name": "stdout",
     "text": [
      "[0, 1, 1, 2, 3, 5, 8, 13, 21, 34, 55, 89, 144, 233, 377, 610, 987, 1597, 2584, 4181, 6765, 10946, 17711, 28657, 46368, 75025, 121393, 196418, 317811, 514229, 832040, 1346269, 2178309, 3524578, 5702887, 9227465, 14930352, 24157817, 39088169, 63245986, 102334155, 165580141, 267914296, 433494437, 701408733, 1134903170, 1836311903, 2971215073, 4807526976, 7778742049, 12586269025, 20365011074, 32951280099, 53316291173, 86267571272, 139583862445, 225851433717, 365435296162, 591286729879, 956722026041, 1548008755920, 2504730781961, 4052739537881, 6557470319842, 10610209857723, 17167680177565, 27777890035288, 44945570212853, 72723460248141, 117669030460994, 190392490709135, 308061521170129, 498454011879264, 806515533049393, 1304969544928657, 2111485077978050, 3416454622906707, 5527939700884757, 8944394323791464, 14472334024676221, 23416728348467685, 37889062373143906, 61305790721611591, 99194853094755497, 160500643816367088, 259695496911122585, 420196140727489673, 679891637638612258, 1100087778366101931, 1779979416004714189]\n[0, 2, 8, 34, 144, 610]\n798\n"
     ]
    }
   ],
   "source": [
    "no=int(input(\"Enter a number\"))\n",
    "ser=[]\n",
    "ser.append(0)\n",
    "ser.append(1)\n",
    "sum1=[]\n",
    "[ser.append(ser[i-2]+ser[i-1]) for i in  range(2,no)]\n",
    "print(ser)\n",
    "for i in range(no):\n",
    "    if(ser[i]%2==0 and ser[i]<2000):\n",
    "        sum1.append(ser[i])\n",
    "print(sum1)\n",
    "print(sum(sum1))"
   ]
  },
  {
   "cell_type": "code",
   "execution_count": 13,
   "metadata": {},
   "outputs": [
    {
     "output_type": "stream",
     "name": "stdout",
     "text": [
      "Enter number\n",
      "[4, 4, 4, 4]\n",
      "Average: 4.0\n"
     ]
    }
   ],
   "source": [
    "#read the numbers continously until -ve number is typed\n",
    "import numpy\n",
    "no=0\n",
    "list=[]\n",
    "print(\"Enter number\")\n",
    "while(no>=0):\n",
    "    no=int(input())   \n",
    "    list.append(no)\n",
    "list.pop()\n",
    "print(list)\n",
    "print(\"Average:\",sum(list)/len(list))\n"
   ]
  },
  {
   "cell_type": "code",
   "execution_count": 5,
   "metadata": {},
   "outputs": [
    {
     "output_type": "stream",
     "name": "stdout",
     "text": [
      "1\n3\n5\n7\n9\n11\nsum: -6\n"
     ]
    }
   ],
   "source": [
    "#Sum of series 1-3+5-7\n",
    "sum=0\n",
    "no=int(input(\"Enter the size\"))\n",
    "for i in range(no):\n",
    "    print(i+i+1)\n",
    "    if(i%2==0):\n",
    "        sum=sum+(i+i+1)\n",
    "    else:\n",
    "        sum=sum-(i+i+1)\n",
    "print(\"sum:\",sum)"
   ]
  },
  {
   "cell_type": "code",
   "execution_count": 23,
   "metadata": {},
   "outputs": [
    {
     "output_type": "stream",
     "name": "stdout",
     "text": [
      "[1, 2, 2, 2, 5, 7, 7]\nMean: 3.7142857142857144\nMedian: 2\nMode: 2 Count: 3\n"
     ]
    }
   ],
   "source": [
    "#program to find mean,median,mode\n",
    "\n",
    "maths=[1,2,5,7,7,2,2]\n",
    "maths.sort()\n",
    "print(maths)\n",
    "print(\"Mean:\",sum(maths)/len(maths))\n",
    "med=0\n",
    "rang=(len(maths)//2)\n",
    "if(rang%2!=0):\n",
    "    med=maths[rang]\n",
    "else:\n",
    "    med=(maths[rang]+maths[rang-1])/2\n",
    "print(\"Median:\",med)\n",
    "\n",
    "count=0\n",
    "max=0\n",
    "for i in maths:\n",
    "    if(count<maths.count(i)):\n",
    "        count=maths.count(i)\n",
    "        max=i\n",
    "print(\"Mode:\",max,\"Count:\",count)"
   ]
  },
  {
   "cell_type": "code",
   "execution_count": 11,
   "metadata": {},
   "outputs": [
    {
     "output_type": "stream",
     "name": "stdout",
     "text": [
      "Unique: [1, 3, 6, 8, 9]\nDuplicate: [2, 5, 4]\n"
     ]
    }
   ],
   "source": [
    "#program to find all duplicate and unique elements\n",
    "mixed=[1,2,5,3,5,4,2,4,6,8,9]\n",
    "dup=[]\n",
    "unique=[]\n",
    "for i in mixed:\n",
    "    if(mixed.count(i)>1):\n",
    "        if(not(i in dup)):\n",
    "            dup.append(i)\n",
    "    else:\n",
    "        unique.append(i)\n",
    "print(\"Unique:\",unique)\n",
    "print(\"Duplicate:\",dup)"
   ]
  },
  {
   "cell_type": "code",
   "execution_count": 9,
   "metadata": {},
   "outputs": [
    {
     "output_type": "stream",
     "name": "stdout",
     "text": [
      "[9, 8, 6, 4, 2, 4, 5, 3, 5, 2, 1]\n"
     ]
    }
   ],
   "source": [
    "#Program to reverse the list\n",
    "numbers=[1,2,5,3,5,4,2,4,6,8,9]\n",
    "rev=[]\n",
    "length=len(numbers)\n",
    "for i in range(length):\n",
    "    rev.append(numbers[length-1-i])\n",
    "print(rev)"
   ]
  },
  {
   "cell_type": "code",
   "execution_count": 8,
   "metadata": {},
   "outputs": [
    {
     "output_type": "stream",
     "name": "stdout",
     "text": [
      "Numbers are\n",
      "\n",
      "Sum of Even Numbers are: 18\n",
      "Sum of Odd Numbers are: 4\n"
     ]
    }
   ],
   "source": [
    "#finding the sum of even numbers and odd numbers\n",
    "size=int(input(\"Enter the size\"))\n",
    "evensum=0\n",
    "oddsum=0\n",
    "for i in range(size):\n",
    "    no=int(input())\n",
    "    if(no%2==0):\n",
    "        evensum=evensum+no\n",
    "    else:\n",
    "        oddsum=oddsum+no\n",
    "else:\n",
    "    print(\"\\nSum of Even Numbers are:\",evensum)\n",
    "    print(\"Sum of Odd Numbers are:\",oddsum)"
   ]
  },
  {
   "cell_type": "code",
   "execution_count": 7,
   "metadata": {},
   "outputs": [
    {
     "output_type": "stream",
     "name": "stdout",
     "text": [
      "List: [2, 5, 6, 8]\n",
      "Extend: [2, 5, 6, 8, 5]\n",
      "Remove: [2, 5, 8, 5]\n",
      "Reverse Sort: [8, 5, 5, 2]\n",
      "Clear: []\n"
     ]
    }
   ],
   "source": [
    "#display the list\n",
    "list=[2,5,6,8]\n",
    "print(\"List:\",list)\n",
    "\n",
    "#extend list\n",
    "no=int(input(\"Enter a number\"))\n",
    "list.append(no)\n",
    "print(\"Extend:\",list)\n",
    "\n",
    "#Remove at specified position\n",
    "ps=int(input(\"Enter position\"))\n",
    "list.pop(ps)\n",
    "print(\"Remove:\",list)\n",
    "\n",
    "#reverse order\n",
    "list.sort(reverse=True)\n",
    "print(\"Reverse Sort:\",list)\n",
    "#delete elements\n",
    "list.clear()\n",
    "print(\"Clear:\",list)"
   ]
  }
 ]
}