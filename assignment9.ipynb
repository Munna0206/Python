{
 "metadata": {
  "language_info": {
   "codemirror_mode": {
    "name": "ipython",
    "version": 3
   },
   "file_extension": ".py",
   "mimetype": "text/x-python",
   "name": "python",
   "nbconvert_exporter": "python",
   "pygments_lexer": "ipython3",
   "version": "3.7.0-final"
  },
  "orig_nbformat": 2,
  "kernelspec": {
   "name": "python37064bite9feff4af9bf43a6a743066415dccf2b",
   "display_name": "Python 3.7.0 64-bit",
   "language": "python"
  }
 },
 "nbformat": 4,
 "nbformat_minor": 2,
 "cells": [
  {
   "cell_type": "code",
   "execution_count": 1,
   "metadata": {},
   "outputs": [],
   "source": [
    "from tkinter import *\n",
    "\n",
    "master = Tk() \n",
    "def click():\n",
    "    e3.insert(0, e1.get()+\" \"+e2.get())\n",
    "\n",
    "Label(master, text='First Text:').grid(row=0) \n",
    "Label(master, text='Second Text:').grid(row=1) \n",
    "Label(master, text='Result:').grid(row=2) \n",
    "e1 = Entry(master) \n",
    "e2 = Entry(master) \n",
    "e3 = Entry(master) \n",
    "e1.grid(row=0, column=1) \n",
    "e2.grid(row=1, column=1)\n",
    "e3.grid(row=2,column=1)\n",
    "bluebutton = Button(master,command=click, text ='Concatinate', fg ='blue') \n",
    "bluebutton.grid(row=3,column=1)\n",
    "mainloop() "
   ]
  },
  {
   "cell_type": "code",
   "execution_count": 2,
   "metadata": {},
   "outputs": [],
   "source": [
    "from tkinter import *\n",
    "master = Tk() \n",
    "def click():\n",
    "    no=int(e1.get())\n",
    "    ser=[]\n",
    "    ser.append(0)\n",
    "    ser.append(1)\n",
    "    [ser.append(ser[i-1]+ser[i-2]) for i in range(2,no)]\n",
    "    e2.insert(0,str(ser))\n",
    "\n",
    "Label(master, text='First Text:').grid(row=0) \n",
    "Label(master, text='Result:').grid(row=1) \n",
    "e1 = Entry(master) \n",
    "e2 = Entry(master) \n",
    "e1.grid(row=0, column=1) \n",
    "e2.grid(row=1, column=1)\n",
    "bluebutton = Button(master,command=click, text ='Fibonnaci') \n",
    "bluebutton.grid(row=3,column=1)\n",
    "mainloop() \n"
   ]
  },
  {
   "cell_type": "code",
   "execution_count": 1,
   "metadata": {},
   "outputs": [],
   "source": [
    "from tkinter import *\n",
    "master = Tk() \n",
    "def click():\n",
    "    ser=[]\n",
    "\n",
    "Label(master, text='First Text:').grid(row=0) \n",
    "Label(master, text='Result:').grid(row=1) \n",
    "e1 = Entry(master) \n",
    "e2 = Entry(master) \n",
    "e1.grid(row=0, column=1) \n",
    "e2.grid(row=1, column=1)\n",
    "bluebutton = Button(master,command=click, text ='Fibonnaci', fg ='blue') \n",
    "bluebutton.grid(row=3,column=1)\n",
    "mainloop() "
   ]
  },
  {
   "cell_type": "code",
   "execution_count": null,
   "metadata": {},
   "outputs": [],
   "source": []
  }
 ]
}