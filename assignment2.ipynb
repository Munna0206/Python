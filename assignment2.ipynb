{
 "metadata": {
  "language_info": {
   "codemirror_mode": {
    "name": "ipython",
    "version": 3
   },
   "file_extension": ".py",
   "mimetype": "text/x-python",
   "name": "python",
   "nbconvert_exporter": "python",
   "pygments_lexer": "ipython3",
   "version": "3.7.0-final"
  },
  "orig_nbformat": 2,
  "kernelspec": {
   "name": "python37064bite9feff4af9bf43a6a743066415dccf2b",
   "display_name": "Python 3.7.0 64-bit"
  }
 },
 "nbformat": 4,
 "nbformat_minor": 2,
 "cells": [
  {
   "cell_type": "code",
   "execution_count": null,
   "metadata": {},
   "outputs": [],
   "source": [
    "#Method 1\n",
    "print(\"Enter two number\")\n",
    "a=int(input())\n",
    "b=int(input())\n",
    "#Before Swap\n",
    "print(\"a:\"+str(a)+\"\\nb:\"+str(b))\n",
    "#After Swap\n",
    "a=a+b\n",
    "b=a-b\n",
    "a=a-b\n",
    "print(\"Method 1:\\n a:\"+str(a)+\"\\nb:\"+str(b))\n",
    "\n",
    "#Method 2\n",
    "print(\"Enter two number\")\n",
    "a=int(input())\n",
    "b=int(input())\n",
    "#Before Swap\n",
    "print(\"\\nMethod 2:\\na:\"+str(a)+\"\\nb:\"+str(b))\n",
    "#After Swap\n",
    "a=a^b\n",
    "b=a^b\n",
    "a=a^b\n",
    "print(\"a:\"+str(a)+\"\\nb:\"+str(b))"
   ]
  },
  {
   "cell_type": "code",
   "execution_count": null,
   "metadata": {},
   "outputs": [],
   "source": [
    "print(\"Enter two numbers\")\n",
    "a=int(input())\n",
    "b=int(input())\n",
    "if a>b:\n",
    "    print(\"Division is:\",a/b)\n",
    "else:\n",
    "    print(\"Division is:\",b/a)"
   ]
  },
  {
   "cell_type": "code",
   "execution_count": 11,
   "metadata": {},
   "outputs": [
    {
     "output_type": "stream",
     "name": "stdout",
     "text": [
      "Invalid Marks\n",
      "Name:  50,50,50\n",
      "Total:  150\n",
      "Average:  50.0\n",
      "Class:  Second class\n"
     ]
    }
   ],
   "source": [
    "while True :\n",
    "    name=input(\"Enter Student name: \")\n",
    "    m1,m2,m3=map(int,input(\"Enter Marks in 3 subjects: \").split(','))\n",
    "    tot=m1+m2+m3\n",
    "    avg=tot/3\n",
    "    if not(m1 in range(101)) or not(m1 in range(101)) or not(m1 in range(101)) :\n",
    "        print(\"Invalid Marks\")\n",
    "        continue\n",
    "    else:\n",
    "        if m1 <35 or m2 < 35 or m3<35:\n",
    "            print(\"Fail as mark is less than 35\")\n",
    "            break\n",
    "        else:\n",
    "            if avg >85:\n",
    "                clas=\"Distinction\"\n",
    "            elif avg>= 70 and avg <85:\n",
    "                clas=\"First Class\"\n",
    "            elif avg>=50 and avg < 70:\n",
    "                clas=\"Second class\"\n",
    "            elif avg>=35 and avg<50:\n",
    "                clas=\"Third class\"\n",
    "            else:\n",
    "                clas=\"Fail\"\n",
    "    print(\"Name: \",name)\n",
    "    print(\"Total: \",tot)\n",
    "    print(\"Average: \",avg)\n",
    "    print(\"Class: \",clas)\n",
    "    break"
   ]
  },
  {
   "cell_type": "code",
   "execution_count": 4,
   "metadata": {},
   "outputs": [
    {
     "output_type": "stream",
     "name": "stdout",
     "text": [
      "Sum:  210\n"
     ]
    }
   ],
   "source": [
    "no=int(input(\"Enter the size\"))\n",
    "sum=0\n",
    "for i in range(no+1):\n",
    "    sum=sum+i\n",
    "print(\"Sum: \",sum)"
   ]
  },
  {
   "cell_type": "code",
   "execution_count": null,
   "metadata": {},
   "outputs": [],
   "source": [
    "decimal = int(input(\"Enter a decimal number: \"))\n",
    "print(\"The value\",str(decimal),\"is\")\n",
    "print(bin(decimal).replace(\"0b\", \"\"), \"in binary.\")\n",
    "print(oct(decimal).replace(\"0o\", \"\"), \"in octal.\")\n",
    "print(hex(decimal).replace(\"0x\", \"\"), \"in hexadecimal.\")\n",
    "\n",
    "#Binary\n",
    "binary = input(\"Enter a binary number:\")\n",
    "dec = int(binary, 2)\n",
    "print(\"The decimal form of binary number\", binary, \"is:\", dec)"
   ]
  }
 ]
}