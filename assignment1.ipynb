{
 "metadata": {
  "language_info": {
   "codemirror_mode": {
    "name": "ipython",
    "version": 3
   },
   "file_extension": ".py",
   "mimetype": "text/x-python",
   "name": "python",
   "nbconvert_exporter": "python",
   "pygments_lexer": "ipython3",
   "version": "3.7.0-final"
  },
  "orig_nbformat": 2,
  "kernelspec": {
   "name": "python37064bite9feff4af9bf43a6a743066415dccf2b",
   "display_name": "Python 3.7.0 64-bit"
  }
 },
 "nbformat": 4,
 "nbformat_minor": 2,
 "cells": [
  {
   "cell_type": "code",
   "execution_count": 1,
   "metadata": {},
   "outputs": [
    {
     "output_type": "stream",
     "name": "stdout",
     "text": [
      "Addition is: (4+6j)\nSubtraction is: (-2-2j)\nMultiplication is: (-5+10j)\nDivision is: (0.44+0.08j)\n"
     ]
    }
   ],
   "source": [
    "#Write a Python program to perform complex arithmetic.\n",
    "x1=int(input(\"Enter x1 value\"))\n",
    "y1=int(input(\"Enter x1 value\"))\n",
    "c1=complex(x1,y1)\n",
    "x2=int(input(\"Enter x1 value\"))\n",
    "y2=int(input(\"Enter x1 value\"))\n",
    "c2=complex(x2,y2)\n",
    "print(\"Addition is:\",c1+c2)\n",
    "print(\"Subtraction is:\",c1-c2)\n",
    "print(\"Multiplication is:\",c1*c2)\n",
    "print(\"Division is:\",c1/c2)"
   ]
  },
  {
   "cell_type": "code",
   "execution_count": 1,
   "metadata": {},
   "outputs": [
    {
     "output_type": "stream",
     "name": "stdout",
     "text": [
      "4\n-2\n"
     ]
    }
   ],
   "source": [
    "#multine line 1\n",
    "a=b=c=d=1\n",
    "print(a+b+\n",
    "c+d)\n",
    "f=a-b-\\\n",
    "c-d\n",
    "print(f)"
   ]
  },
  {
   "cell_type": "code",
   "execution_count": null,
   "metadata": {},
   "outputs": [],
   "source": [
    "hours=int(input(\"Enter the number of hours worked in a week : \"))\n",
    "rate=float(input(\"Enter the rate value : \"))\n",
    "weeks=int(input(\"Enter the number of weeks in a month\"))\n",
    "pay=hours*rate*weeks\n",
    "print(\"Monthly Pay: \",pay)"
   ]
  },
  {
   "cell_type": "code",
   "execution_count": null,
   "metadata": {},
   "outputs": [],
   "source": [
    "id=int(input(\"Enter the employee ID : \"))\n",
    "sal=float(input(\"Enter the salary : \"))\n",
    "da=0.05*sal\n",
    "hra=0.07*sal\n",
    "pf=0.02*sal\n",
    "gross=da+hra+sal\n",
    "net=gross-pf\n",
    "tax=0\n",
    "fnet=0\n",
    "if gross >=5001 and gross <= 10000 :\n",
    "    tax=net*0.10\n",
    "elif gross >=10001 and gross <=20000 :\n",
    "    tax=net*0.20\n",
    "elif gross > 20000 :\n",
    "    tax=net*0.30\n",
    "fnet=net-tax\n",
    "print(\"Employee ID : \",id)\n",
    "print(\"Salary is : \",sal)\n",
    "print(\"DA is : \",da)\n",
    "print(\"HRA is : \",hra)\n",
    "print(\"Gross Pay : \",gross)\n",
    "print(\"Tax is : \",tax)\n",
    "print(\"Net Pay is :\",fnet)"
   ]
  },
  {
   "cell_type": "code",
   "execution_count": null,
   "metadata": {},
   "outputs": [],
   "source": [
    "#5. Write a Python program to calculate area of circle, rectangle and triangle\n",
    "def circlearea(r):\n",
    "    return 3.142*r*r\n",
    "def rectarea(l,b):\n",
    "    return l*b\n",
    "def triangarea(b,h):\n",
    "    return 0.5*b*h\n",
    "r=float(input(\"Enter the radius of circle: \"))\n",
    "print(\"Area of circle is : \",circlearea(r))\n",
    "l=float(input(\"Enter the length of rectangle: \"))\n",
    "b=float(input(\"Enter the breadth of rectangle : \"))\n",
    "print(\"Area of rectangle : \",rectarea(l,b))\n",
    "b=float(input(\"Enter the base of reactangel : \"))\n",
    "h=float(input(\"Enter the height of traiangle : \"))\n",
    "print(\"Area of Triangle : \",triangarea(b,h))"
   ]
  }
 ]
}