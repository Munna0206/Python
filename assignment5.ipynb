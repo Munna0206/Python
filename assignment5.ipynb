{
 "metadata": {
  "language_info": {
   "codemirror_mode": {
    "name": "ipython",
    "version": 3
   },
   "file_extension": ".py",
   "mimetype": "text/x-python",
   "name": "python",
   "nbconvert_exporter": "python",
   "pygments_lexer": "ipython3",
   "version": "3.7.0-final"
  },
  "orig_nbformat": 2,
  "kernelspec": {
   "name": "python3",
   "display_name": "Python 3.7.0 64-bit",
   "metadata": {
    "interpreter": {
     "hash": "a362185ff0a3941b7e418959c3f029e825c3b100239680ab85c936fdc7414911"
    }
   }
  }
 },
 "nbformat": 4,
 "nbformat_minor": 2,
 "cells": [
  {
   "cell_type": "code",
   "execution_count": 1,
   "metadata": {},
   "outputs": [
    {
     "output_type": "stream",
     "name": "stdout",
     "text": [
      "(1, 3, 5)\n(2, 4, 6)\n\n[7, 10, 13]\n[15, 22, 29]\n"
     ]
    }
   ],
   "source": [
    "#transpose\n",
    "X= [[1, 2],\n",
    "[3, 4],\n",
    "[5, 6]]\n",
    "result = [i for i in zip(*X)]\n",
    "for r in result:\n",
    "    print(r)\n",
    "\n",
    "#Multiply using zip\n",
    "print()\n",
    "x= [[1,2],[3,4]]\n",
    "y= [[1,2,3],[3,4,5]]\n",
    "y=list(zip(*y))\n",
    "z=[[sum(m*n for m,n in zip(x[i],y[j]))  for j in range(len(y))] for i in range(len(x))]\n",
    "for i in z:\n",
    "    print(i)"
   ]
  },
  {
   "cell_type": "code",
   "execution_count": 2,
   "metadata": {},
   "outputs": [
    {
     "output_type": "stream",
     "name": "stdout",
     "text": [
      "['Even', 'Odd', 'Even', 'Odd', 'Even', 'Odd', 'Even', 'Odd', 'Even', 'Odd', 'Even']\n[0, 2, 4, 6, 8, 10]\n[0, 5, 10]\n[0, 10]\n"
     ]
    }
   ],
   "source": [
    "obj = [\"Even\" if i % 2 == 0 else \"Odd\" for i in range(0, 11)]\n",
    "print(obj)\n",
    "\n",
    "num_list = [y for y in range(0, 11) if y % 2 == 0]\n",
    "print(num_list)\n",
    "\n",
    "num_list = [y for y in range(0, 11) if y % 5 == 0]\n",
    "print(num_list)\n",
    "\n",
    "num_list = [y for y in range(0, 11) if y % 2 == 0 and y % 5 == 0]\n",
    "print(num_list)"
   ]
  },
  {
   "cell_type": "code",
   "execution_count": 1,
   "metadata": {},
   "outputs": [
    {
     "output_type": "stream",
     "name": "stdout",
     "text": [
      "list is:: ['1', '3', '45']\ntuple is: ('1', '3', '45')\n"
     ]
    }
   ],
   "source": [
    "numbers = input(\"Input comma seperated values:\")\n",
    "list1 =  numbers.split(',')\n",
    "print(\"list is::\", list1)\n",
    "print(\"tuple is:\", tuple(list1))"
   ]
  },
  {
   "cell_type": "code",
   "execution_count": 12,
   "metadata": {},
   "outputs": [
    {
     "output_type": "stream",
     "name": "stdout",
     "text": [
      "[2002, 2009, 2016, 2023, 2037, 2044, 2051, 2058, 2072, 2079, 2086, 2093, 2107, 2114, 2121, 2128, 2142, 2149, 2156, 2163, 2177, 2184, 2191, 2198, 2212, 2219, 2226, 2233, 2247, 2254, 2261, 2268, 2282, 2289, 2296, 2303, 2317, 2324, 2331, 2338, 2352, 2359, 2366, 2373, 2387, 2394, 2401, 2408, 2422, 2429, 2436, 2443, 2457, 2464, 2471, 2478, 2492, 2499, 2506, 2513, 2527, 2534, 2541, 2548, 2562, 2569, 2576, 2583, 2597, 2604, 2611, 2618, 2632, 2639, 2646, 2653, 2667, 2674, 2681, 2688, 2702, 2709, 2716, 2723, 2737, 2744, 2751, 2758, 2772, 2779, 2786, 2793, 2807, 2814, 2821, 2828, 2842, 2849, 2856, 2863, 2877, 2884, 2891, 2898, 2912, 2919, 2926, 2933, 2947, 2954, 2961, 2968, 2982, 2989, 2996, 3003, 3017, 3024, 3031, 3038, 3052, 3059, 3066, 3073, 3087, 3094, 3101, 3108, 3122, 3129, 3136, 3143, 3157, 3164, 3171, 3178, 3192, 3199]\n"
     ]
    }
   ],
   "source": [
    "list1 = [x for x in range(2000, 3201) if x % 7 == 0 and x % 5 != 0]\n",
    "print(list1)"
   ]
  },
  {
   "cell_type": "code",
   "execution_count": 14,
   "metadata": {},
   "outputs": [
    {
     "output_type": "stream",
     "name": "stdout",
     "text": [
      "{1: 1, 2: 4, 3: 9, 4: 16, 5: 25, 6: 36, 7: 49, 8: 64, 9: 81, 10: 100}\n"
     ]
    }
   ],
   "source": [
    "n = int(input(\"Enter the value of n: \"))\n",
    "squares = {i: i*i for i in range(1, n+1)}\n",
    "print(squares)"
   ]
  },
  {
   "cell_type": "code",
   "execution_count": 15,
   "metadata": {},
   "outputs": [
    {
     "output_type": "stream",
     "name": "stdout",
     "text": [
      "Second largest is: 221\nSecond smallest is: 21\n"
     ]
    }
   ],
   "source": [
    "list1 = [12, 65, 324, 44, 221, 33, 21, 2]\n",
    "list1.sort()\n",
    "print(\"Second largest is:\", list1[-2])\n",
    "print(\"Second smallest is:\", list1[2])"
   ]
  },
  {
   "cell_type": "code",
   "execution_count": 16,
   "metadata": {},
   "outputs": [
    {
     "output_type": "stream",
     "name": "stdout",
     "text": [
      "capital is: delhi\npopulation is: 98000\n"
     ]
    }
   ],
   "source": [
    "dictionary = {\"india\": {\"capital\": \"delhi\", \"population\": 98000}, \"usa\": {\"capital\": \"washington\",\"population\": 123000},\"italy\": {\"capital\": \"rome\", \"population\": 623000}, \"russia\": {\"capital\": \"moscow\", \"population\": 234000}}\n",
    "countries = input(\"Enter the country:\")\n",
    "if countries in dictionary.keys():\n",
    "    print(\"capital is:\", dictionary[countries]['capital'])\n",
    "    print(\"population is:\", dictionary[countries]['population'])\n",
    "else:\n",
    "    print(\"country not found\")"
   ]
  },
  {
   "cell_type": "code",
   "execution_count": 1,
   "metadata": {},
   "outputs": [
    {
     "output_type": "stream",
     "name": "stdout",
     "text": [
      "0,1,1,2,3,5,8,13,21,34,55,89,144,"
     ]
    }
   ],
   "source": [
    "n = int(input(\"Enter the number:\"))\n",
    "series = []\n",
    "series=[0,1]\n",
    "[series.append(series[k-1]+series[k-2]) for k in range(2, n+1)]\n",
    "for i in series:\n",
    "    print(i, end=\",\")"
   ]
  },
  {
   "cell_type": "code",
   "execution_count": null,
   "metadata": {},
   "outputs": [],
   "source": []
  }
 ]
}