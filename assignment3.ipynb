{
 "metadata": {
  "language_info": {
   "codemirror_mode": {
    "name": "ipython",
    "version": 3
   },
   "file_extension": ".py",
   "mimetype": "text/x-python",
   "name": "python",
   "nbconvert_exporter": "python",
   "pygments_lexer": "ipython3",
   "version": 3
  },
  "orig_nbformat": 2
 },
 "nbformat": 4,
 "nbformat_minor": 2,
 "cells": [
  {
   "cell_type": "code",
   "execution_count": null,
   "metadata": {},
   "outputs": [],
   "source": [
    "#1 Quadratic Equation\n",
    "import math\n",
    "a = int(input(\"Enter the value for a such that a!=0\"))\n",
    "b = int(input(\"Enter the value for b\"))\n",
    "c = int(input(\"Enter the value for c\"))\n",
    "\n",
    "# calculate the discriminant\n",
    "d =abs((b**2)-(4*a*c))\n",
    "\n",
    "# find two solutions\n",
    "sol1 =round((-b-math.sqrt(d))/(2*a),2)\n",
    "sol2 =round((-b+math.sqrt(d))/(2*a),2)\n",
    "\n",
    "print('The solution are {0} and {1}'.format(sol1,sol2))"
   ]
  },
  {
   "cell_type": "code",
   "execution_count": null,
   "metadata": {},
   "outputs": [],
   "source": [
    "#2 Factors Of A Number\n",
    "no=int(input(\"Enter a number\"))\n",
    "print(\"Factors of a number\",no,\"is:\")\n",
    "for i in range(1,no+1):#<no+1\n",
    "    if(no%i==0):\n",
    "        print(i)"
   ]
  },
  {
   "cell_type": "code",
   "execution_count": null,
   "metadata": {},
   "outputs": [],
   "source": [
    "#3 Ascii to character\n",
    "a=int(input(\"Enter a number\"))\n",
    "print(\"Character of ascii value\",a,\"is\",chr(a))\n",
    "#character to ascii\n",
    "b=input(\"Enter a character\")\n",
    "print(\"Ascii of character\",b,\"is\",ord(b))"
   ]
  },
  {
   "cell_type": "code",
   "execution_count": null,
   "metadata": {},
   "outputs": [],
   "source": [
    "#4 Check Prime Numbers\n",
    "flag=1\n",
    "no=int(input(\"Enter a number\"))\n",
    "for i in range(2,no):\n",
    "    if no%i==0:\n",
    "        print(no,\"is not prime number\")\n",
    "        flag=0\n",
    "        break\n",
    "if flag==1:\n",
    "    print(no,\"is prime number\")"
   ]
  },
  {
   "cell_type": "code",
   "execution_count": null,
   "metadata": {},
   "outputs": [],
   "source": [
    "#5 Prime Numbers In range\n",
    "no=int(input(\"Enter a range\"))\n",
    "print(\"Prime Numbers are as follows:\")\n",
    "for i in range(2,no+1):\n",
    "    flag=1\n",
    "    for j in range(2,i):\n",
    "        if(i%j==0):\n",
    "            flag=0\n",
    "            break\n",
    "    if(flag==1):\n",
    "      print(i,end=' ')"
   ]
  },
  {
   "cell_type": "code",
   "execution_count": null,
   "metadata": {},
   "outputs": [],
   "source": [
    "#Pass & Continue\n",
    "print(\"****Continue****\")\n",
    "for letter in 'Python':\n",
    "    if letter == 'h':\n",
    "        continue\n",
    "    print('Current Letter :',letter)\n",
    "\n",
    "#Pass\n",
    "print(\"\\n****Pass*****\")\n",
    "for letter in 'Python':   \n",
    "    if letter == 'h':\n",
    "        pass\n",
    "    print('Current Letter :',letter)"
   ]
  }
 ]
}