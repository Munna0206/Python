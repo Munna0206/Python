{
 "metadata": {
  "language_info": {
   "codemirror_mode": {
    "name": "ipython",
    "version": 3
   },
   "file_extension": ".py",
   "mimetype": "text/x-python",
   "name": "python",
   "nbconvert_exporter": "python",
   "pygments_lexer": "ipython3",
   "version": "3.7.0-final"
  },
  "orig_nbformat": 2,
  "kernelspec": {
   "name": "python3",
   "display_name": "Python 3.7.0 64-bit",
   "metadata": {
    "interpreter": {
     "hash": "a3fc8c9e9fcbfe9bf05300f59effa01cc4d934c9429c337d63336dbf3e5e6d9d"
    }
   }
  }
 },
 "nbformat": 4,
 "nbformat_minor": 2,
 "cells": [
  {
   "cell_type": "code",
   "execution_count": null,
   "metadata": {},
   "outputs": [],
   "source": [
    "f1=open(input(\"Enter source file name:\"),\"r\")\n",
    "f2=open(input(\"Enter destination file name\"),\"w\")\n",
    "f1_contents=f1.read()\n",
    "words=f1_contents.split()\n",
    "\n",
    "for i in words:\n",
    "    if(words.count(i)==1):\n",
    "        f2.writelines(str(i)+\"\\n\")\n",
    "\n",
    "f1.close()\n",
    "f2.close()"
   ]
  },
  {
   "cell_type": "code",
   "execution_count": null,
   "metadata": {},
   "outputs": [],
   "source": [
    "try:\n",
    "    count=0\n",
    "    fp=open(input(\"Enter file name:\"),'r')\n",
    "    lines=fp.readlines()\n",
    "    for i in lines:\n",
    "        words=i.split()\n",
    "        if(words[0]==\"From\"):\n",
    "            count+=1\n",
    "            print(i)\n",
    "    print(\"Number of line starting from From:\",count)\n",
    "except IOError:\n",
    "    print(\"doesn't exist\")"
   ]
  },
  {
   "cell_type": "code",
   "execution_count": null,
   "metadata": {},
   "outputs": [],
   "source": [
    "\n",
    "dict={}\n",
    "fp=open(input(\"Enter file name:\"),\"r\")\n",
    "words=fp.read().split()\n",
    "dict={i:words.count(i) for i in words}\n",
    "print(dict)"
   ]
  },
  {
   "cell_type": "code",
   "execution_count": null,
   "metadata": {},
   "outputs": [],
   "source": [
    "fp_contents=[]\n",
    "fp1=open(input(\"Enter file name:\"),'r')\n",
    "fp2=open(input(\"Enter destination file name:\"),'w+')\n",
    "fp_contents.extend(fp1.read())\n",
    "for char in fp_contents:\n",
    "    if(char.isupper()):\n",
    "        fp2.write(char)\n",
    "fp1.close()\n",
    "fp2.close()"
   ]
  },
  {
   "cell_type": "code",
   "execution_count": null,
   "metadata": {},
   "outputs": [],
   "source": [
    "d={}\n",
    "fp=open(input(\"Enter file name:\"),'r')\n",
    "fp_contents=fp.read()\n",
    "\n",
    "lst=[]\n",
    "lst.extend(fp_contents)\n",
    "d={}\n",
    "for i in lst:\n",
    "    if(i!=' ' and i!='\\n'):\n",
    "        n=lst.count(i)\n",
    "        d[i]=n\n",
    "print(d)"
   ]
  },
  {
   "cell_type": "code",
   "execution_count": 11,
   "metadata": {},
   "outputs": [
    {
     "output_type": "stream",
     "name": "stdout",
     "text": [
      "None\n"
     ]
    },
    {
     "output_type": "error",
     "ename": "TypeError",
     "evalue": "'int' object is not callable",
     "traceback": [
      "\u001b[1;31m---------------------------------------------------------------------------\u001b[0m",
      "\u001b[1;31mTypeError\u001b[0m                                 Traceback (most recent call last)",
      "\u001b[1;32m<ipython-input-11-45086b257769>\u001b[0m in \u001b[0;36m<module>\u001b[1;34m\u001b[0m\n\u001b[0;32m      5\u001b[0m \u001b[0mfp_int\u001b[0m\u001b[1;33m=\u001b[0m\u001b[1;33m[\u001b[0m\u001b[0mint\u001b[0m\u001b[1;33m(\u001b[0m\u001b[0mi\u001b[0m\u001b[1;33m)\u001b[0m \u001b[1;32mfor\u001b[0m \u001b[0mi\u001b[0m \u001b[1;32min\u001b[0m \u001b[0mfp_contents\u001b[0m \u001b[1;32mif\u001b[0m\u001b[1;33m(\u001b[0m\u001b[0mi\u001b[0m\u001b[1;33m.\u001b[0m\u001b[0misdigit\u001b[0m\u001b[1;33m(\u001b[0m\u001b[1;33m)\u001b[0m\u001b[1;33m)\u001b[0m\u001b[1;33m]\u001b[0m\u001b[1;33m\u001b[0m\u001b[0m\n\u001b[0;32m      6\u001b[0m \u001b[0mprint\u001b[0m\u001b[1;33m(\u001b[0m\u001b[0mfp_int\u001b[0m\u001b[1;33m.\u001b[0m\u001b[0msort\u001b[0m\u001b[1;33m(\u001b[0m\u001b[1;33m)\u001b[0m\u001b[1;33m)\u001b[0m\u001b[1;33m\u001b[0m\u001b[0m\n\u001b[1;32m----> 7\u001b[1;33m \u001b[0mmax2\u001b[0m\u001b[1;33m=\u001b[0m\u001b[0mmax\u001b[0m\u001b[1;33m(\u001b[0m\u001b[0mfp_int\u001b[0m\u001b[1;33m)\u001b[0m\u001b[1;33m\u001b[0m\u001b[0m\n\u001b[0m\u001b[0;32m      8\u001b[0m \u001b[0mnext\u001b[0m\u001b[1;33m=\u001b[0m\u001b[1;36m0\u001b[0m\u001b[1;33m;\u001b[0m\u001b[1;33m\u001b[0m\u001b[0m\n\u001b[0;32m      9\u001b[0m \u001b[0mprev\u001b[0m\u001b[1;33m=\u001b[0m\u001b[1;36m0\u001b[0m\u001b[1;33m;\u001b[0m\u001b[1;33m\u001b[0m\u001b[0m\n",
      "\u001b[1;31mTypeError\u001b[0m: 'int' object is not callable"
     ]
    }
   ],
   "source": [
    "fname=input(\"Enter file name:\")\n",
    "fp=open(fname,'r')\n",
    "fp_contents=fp.read().split()\n",
    "fp_int=[]\n",
    "fp_int=[int(i) for i in fp_contents if(i.isdigit())]\n",
    "print(fp_int)\n",
    "max2=max(fp_int)\n",
    "next=0;\n",
    "prev=0;\n",
    "for i in range(max2):\n",
    "    if(i==0 or i==1):\n",
    "        next=i;\n",
    "    else:\n",
    "        temp=next\n",
    "        next=next+prev\n",
    "        prev=temp;\n",
    "    print(next,end=\" \")"
   ]
  },
  {
   "cell_type": "code",
   "execution_count": null,
   "metadata": {},
   "outputs": [],
   "source": [
    "wordcount=0\n",
    "char=[]\n",
    "fname=input(\"Enter file name:\")\n",
    "fp=open(fname,'r')\n",
    "fp2=open(fname,'r')\n",
    "line=fp.readlines()\n",
    "char.extend(fp2.read())\n",
    "for i in line:\n",
    "    count=count+len(i.split())\n",
    "print(\"Lines:\",len(line))\n",
    "print(\"Words:\",count)\n",
    "print(\"Characters:\",len(char))"
   ]
  },
  {
   "cell_type": "code",
   "execution_count": null,
   "metadata": {},
   "outputs": [],
   "source": [
    "class Rectangle:\n",
    "    def __init__(self,w=1,h=2):\n",
    "        self.width=w\n",
    "        self.height=h\n",
    "    def getArea(self):\n",
    "        area=self.height*self.width\n",
    "        return area\n",
    "    def getPerimeter(self):\n",
    "        perimeter=2*self.width+2*self.height\n",
    "        return perimeter\n",
    "    def display(self):\n",
    "        print(\"Width of rectangle:\",self.width)\n",
    "        print(\"Height of rectangle:\",self.height)\n",
    "        \n",
    "r1=Rectangle(4,40)\n",
    "r2=Rectangle(3.5,35.7)\n",
    "r1.display()\n",
    "print(\"Area of rectangle:\",r1.getArea())\n",
    "print(\"Perimeter of rectangle:\",r1.getPerimeter())\n",
    "print()\n",
    "r2.display()\n",
    "print(\"Area of rectangle:\",r2.getArea())\n",
    "print(\"Perimeter of rectangle:\",r2.getPerimeter())"
   ]
  },
  {
   "cell_type": "code",
   "execution_count": null,
   "metadata": {},
   "outputs": [],
   "source": [
    "class Employee:\n",
    "    def getdata(self):\n",
    "        self.empno=input(\"Enter employee no:\")\n",
    "        self.ename=input(\"Enter employee name:\")\n",
    "        self.basic=int(input(\"Enter basic salary:\"))\n",
    "    def display(self):\n",
    "        print(\"employee no:\",self.empno)\n",
    "        print(\"Employee name:\",self.ename)\n",
    "        print(\"Basic salary:\",self.basic)\n",
    "    \n",
    "class Manager(Employee):\n",
    "    def getdata(self):\n",
    "        super().getdata()\n",
    "        self.job=\"Manager\"\n",
    "    def display(self):\n",
    "        super().display()\n",
    "        print(\"Job:s\",self.dept)\n",
    "\n",
    "class Scientist(Employee):\n",
    "    def getdata(self):\n",
    "        super().getdata()\n",
    "        self.job=\"Scientist\"\n",
    "    def display(self):\n",
    "        super().display()\n",
    "        print(\"Job:\",self.job)           \n",
    "        \n",
    "x=Scientist()\n",
    "x.getdata()\n",
    "x.display()"
   ]
  },
  {
   "cell_type": "code",
   "execution_count": null,
   "metadata": {},
   "outputs": [],
   "source": [
    "import math\n",
    "class Circle:\n",
    "    def __init__(self,radius):\n",
    "        self.__radius=radius\n",
    "    def getRadius(self):\n",
    "        return self.__radius\n",
    "    def __add__(self,another_circle):\n",
    "        return Circle(self.__radius + another_circle.__radius)\n",
    "    \n",
    "c1=Circle(4)\n",
    "\n",
    "c2=Circle(5)\n",
    "\n",
    "c3=c1+c2\n",
    "print(c3.getRadius())"
   ]
  },
  {
   "cell_type": "code",
   "execution_count": null,
   "metadata": {},
   "outputs": [],
   "source": []
  }
 ]
}