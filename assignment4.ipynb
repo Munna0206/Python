{
 "metadata": {
  "language_info": {
   "codemirror_mode": {
    "name": "ipython",
    "version": 3
   },
   "file_extension": ".py",
   "mimetype": "text/x-python",
   "name": "python",
   "nbconvert_exporter": "python",
   "pygments_lexer": "ipython3",
   "version": "3.7.0-final"
  },
  "orig_nbformat": 2,
  "kernelspec": {
   "name": "python3",
   "display_name": "Python 3.7.0 64-bit",
   "metadata": {
    "interpreter": {
     "hash": "a362185ff0a3941b7e418959c3f029e825c3b100239680ab85c936fdc7414911"
    }
   }
  }
 },
 "nbformat": 4,
 "nbformat_minor": 2,
 "cells": [
  {
   "cell_type": "code",
   "execution_count": 1,
   "metadata": {},
   "outputs": [
    {
     "output_type": "stream",
     "name": "stdout",
     "text": [
      "1.0\n0.5\n0.33\n0.25\n0.2\n0.17\n0.14\n0.12\n0.11\n0.1\n"
     ]
    }
   ],
   "source": [
    "#using for loop prins the decimal eqivalent\n",
    "for i in range(1,11):\n",
    "    print(round(1/i,2))"
   ]
  },
  {
   "cell_type": "code",
   "execution_count": 2,
   "metadata": {},
   "outputs": [
    {
     "output_type": "stream",
     "name": "stdout",
     "text": [
      "0\n1\n1\n2\n3\n5\n8\n13\n21\n34\n"
     ]
    }
   ],
   "source": [
    "#generate fibonacci numbers\n",
    "no=int(input(\"Enter a number\"))\n",
    "ser=[]\n",
    "ser=[0,1]\n",
    "[ser.append(ser[i-2]+ser[i-1]) for i in  range(2,no)]\n",
    "for i in range(no):\n",
    "    print(ser[i])"
   ]
  },
  {
   "cell_type": "code",
   "execution_count": 4,
   "metadata": {},
   "outputs": [
    {
     "output_type": "stream",
     "name": "stdout",
     "text": [
      "[0, 1, 1, 2, 3, 5, 8, 13, 21, 34, 55, 89]\n[0, 2, 8, 34]\n44\n"
     ]
    }
   ],
   "source": [
    "no=int(input(\"Enter a number\"))\n",
    "ser=[]\n",
    "ser=[0,1]\n",
    "sum1=[]\n",
    "[ser.append(ser[i-2]+ser[i-1]) for i in  range(2,no)]\n",
    "print(ser)\n",
    "for i in range(no):\n",
    "    if(ser[i]%2==0 and ser[i]<2000):\n",
    "        sum1.append(ser[i])\n",
    "print(sum1)\n",
    "print(sum(sum1))"
   ]
  },
  {
   "cell_type": "code",
   "execution_count": 13,
   "metadata": {},
   "outputs": [
    {
     "output_type": "stream",
     "name": "stdout",
     "text": [
      "Enter number\n",
      "[4, 4, 4, 4]\n",
      "Average: 4.0\n"
     ]
    }
   ],
   "source": [
    "#read the numbers continously until -ve number is typed\n",
    "import numpy\n",
    "no=0\n",
    "list=[]\n",
    "print(\"Enter number\")\n",
    "while(no>=0):\n",
    "    no=int(input())   \n",
    "    list.append(no)\n",
    "list.pop()\n",
    "print(list)\n",
    "print(\"Average:\",sum(list)/len(list))\n"
   ]
  },
  {
   "cell_type": "code",
   "execution_count": 5,
   "metadata": {},
   "outputs": [
    {
     "output_type": "stream",
     "name": "stdout",
     "text": [
      "1\n3\n5\n7\n9\n11\nsum: -6\n"
     ]
    }
   ],
   "source": [
    "#Sum of series 1-3+5-7\n",
    "sum=0\n",
    "no=int(input(\"Enter the size\"))\n",
    "for i in range(no):\n",
    "    print(i+i+1)\n",
    "    if(i%2==0):\n",
    "        sum=sum+(i+i+1)\n",
    "    else:\n",
    "        sum=sum-(i+i+1)\n",
    "print(\"sum:\",sum)"
   ]
  },
  {
   "cell_type": "code",
   "execution_count": 1,
   "metadata": {},
   "outputs": [
    {
     "output_type": "stream",
     "name": "stdout",
     "text": [
      "3.7142857142857144\n2\n2\n"
     ]
    }
   ],
   "source": [
    "#program to find mean,median,mode\n",
    "import statistics as st\n",
    "maths=[1,2,5,7,7,2,2]\n",
    "print(st.mean(maths))\n",
    "print(st.median(maths))\n",
    "print(st.mode(maths))"
   ]
  },
  {
   "cell_type": "code",
   "execution_count": 2,
   "metadata": {},
   "outputs": [
    {
     "output_type": "stream",
     "name": "stdout",
     "text": [
      "Unique: {1, 3, 6, 8, 9}\nDuplicate: {2, 4, 5}\n"
     ]
    }
   ],
   "source": [
    "#program to find all duplicate and unique elements\n",
    "mixed=[1,2,5,3,5,4,2,4,6,8,9]\n",
    "dup=set()\n",
    "unique=set()\n",
    "for i in mixed:\n",
    "    if(mixed.count(i)>1):\n",
    "        dup.add(i)\n",
    "    else:\n",
    "        unique.add(i)\n",
    "print(\"Unique:\",unique)\n",
    "print(\"Duplicate:\",dup)"
   ]
  },
  {
   "cell_type": "code",
   "execution_count": 3,
   "metadata": {},
   "outputs": [
    {
     "output_type": "stream",
     "name": "stdout",
     "text": [
      "[1, 2, 2, 3, 4, 4, 5, 5, 6, 8, 9]\n"
     ]
    }
   ],
   "source": [
    "#Program to reverse the list\n",
    "numbers=[1,2,5,3,5,4,2,4,6,8,9]\n",
    "rev=[]\n",
    "length=len(numbers)\n",
    "for i in range(length):\n",
    "    rev.append(numbers[length-1-i])\n",
    "print(rev)"
   ]
  },
  {
   "cell_type": "code",
   "execution_count": 8,
   "metadata": {},
   "outputs": [
    {
     "output_type": "stream",
     "name": "stdout",
     "text": [
      "Numbers are\n",
      "\n",
      "Sum of Even Numbers are: 18\n",
      "Sum of Odd Numbers are: 4\n"
     ]
    }
   ],
   "source": [
    "#finding the sum of even numbers and odd numbers\n",
    "size=int(input(\"Enter the size\"))\n",
    "evensum=0\n",
    "oddsum=0\n",
    "for i in range(size):\n",
    "    no=int(input())\n",
    "    if(no%2==0):\n",
    "        evensum=evensum+no\n",
    "    else:\n",
    "        oddsum=oddsum+no\n",
    "else:\n",
    "    print(\"\\nSum of Even Numbers are:\",evensum)\n",
    "    print(\"Sum of Odd Numbers are:\",oddsum)"
   ]
  },
  {
   "cell_type": "code",
   "execution_count": 7,
   "metadata": {},
   "outputs": [
    {
     "output_type": "stream",
     "name": "stdout",
     "text": [
      "List: [2, 5, 6, 8]\n",
      "Extend: [2, 5, 6, 8, 5]\n",
      "Remove: [2, 5, 8, 5]\n",
      "Reverse Sort: [8, 5, 5, 2]\n",
      "Clear: []\n"
     ]
    }
   ],
   "source": [
    "#display the list\n",
    "list=[2,5,6,8]\n",
    "print(\"List:\",list)\n",
    "\n",
    "#extend list\n",
    "no=int(input(\"Enter a number\"))\n",
    "list.append(no)\n",
    "print(\"Extend:\",list)\n",
    "\n",
    "#Remove at specified position\n",
    "ps=int(input(\"Enter position\"))\n",
    "list.pop(ps)\n",
    "print(\"Remove:\",list)\n",
    "\n",
    "#reverse order\n",
    "list.sort(reverse=True)\n",
    "print(\"Reverse Sort:\",list)\n",
    "#delete elements\n",
    "list.clear()\n",
    "print(\"Clear:\",list)"
   ]
  }
 ]
}