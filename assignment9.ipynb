{
 "metadata": {
  "language_info": {
   "codemirror_mode": {
    "name": "ipython",
    "version": 3
   },
   "file_extension": ".py",
   "mimetype": "text/x-python",
   "name": "python",
   "nbconvert_exporter": "python",
   "pygments_lexer": "ipython3",
   "version": "3.7.0-final"
  },
  "orig_nbformat": 2,
  "kernelspec": {
   "name": "python3",
   "display_name": "Python 3.7.0 64-bit",
   "metadata": {
    "interpreter": {
     "hash": "a362185ff0a3941b7e418959c3f029e825c3b100239680ab85c936fdc7414911"
    }
   }
  }
 },
 "nbformat": 4,
 "nbformat_minor": 2,
 "cells": [
  {
   "cell_type": "code",
   "execution_count": 2,
   "metadata": {},
   "outputs": [],
   "source": [
    "from tkinter import *\n",
    "\n",
    "master = Tk() \n",
    "def click():\n",
    "    e3.insert(0, e1.get()+\" \"+e2.get())\n",
    "\n",
    "Label(master, text='First Text:').grid(row=0) \n",
    "Label(master, text='Second Text:').grid(row=1) \n",
    "Label(master, text='Result:').grid(row=2) \n",
    "e1 = Entry(master) \n",
    "e2 = Entry(master) \n",
    "e3 = Entry(master) \n",
    "e1.grid(row=0, column=1) \n",
    "e2.grid(row=1, column=1)\n",
    "e3.grid(row=2,column=1)\n",
    "bluebutton = Button(master,command=click, text ='Concatinate') \n",
    "bluebutton.grid(row=3,column=1)\n",
    "mainloop() "
   ]
  },
  {
   "cell_type": "code",
   "execution_count": 2,
   "metadata": {},
   "outputs": [],
   "source": [
    "from tkinter import *\n",
    "master = Tk() \n",
    "def click():\n",
    "    no=int(e1.get())\n",
    "    ser=[]\n",
    "    ser.append(0)\n",
    "    ser.append(1)\n",
    "    [ser.append(ser[i-1]+ser[i-2]) for i in range(2,no)]\n",
    "    e2.insert(0,str(ser))\n",
    "\n",
    "Label(master, text='First Text:').grid(row=0) \n",
    "Label(master, text='Result:').grid(row=1) \n",
    "e1 = Entry(master) \n",
    "e2 = Entry(master) \n",
    "e1.grid(row=0, column=1) \n",
    "e2.grid(row=1, column=1)\n",
    "bluebutton = Button(master,command=click, text ='Fibonnaci') \n",
    "bluebutton.grid(row=3,column=1)\n",
    "mainloop() \n"
   ]
  },
  {
   "cell_type": "code",
   "execution_count": 1,
   "metadata": {},
   "outputs": [],
   "source": [
    "from tkinter import *\n",
    "master = Tk() \n",
    "emp=[]\n",
    "class Dno:\n",
    "    def __init__(self,dno,dept):\n",
    "         self.dno=dno\n",
    "         self.dept=dept\n",
    "\n",
    "class Employee(Dno):\n",
    "    def __init__(self,eno,ename,salary,dno,dept):\n",
    "        self.eno=eno\n",
    "        self.ename=ename\n",
    "        self.salary=salary\n",
    "        super().__init__(dno,dept)\n",
    "\n",
    "def disp():\n",
    "    t1.delete('1.0',END)\n",
    "    for i in emp:\n",
    "        t1.insert(END,\"\\n\"+i.ename+\" \"+i.eno+\" \"+i.salary+\" \"+i.dno+\" \"+i.dept)\n",
    "\n",
    "def add():\n",
    "    emp.append(Employee(e1.get(),e2.get(),e3.get(),e4.get(),e5.get()))\n",
    "    e1.delete('0',END)\n",
    "    e2.delete('0',END)\n",
    "    e3.delete('0',END)\n",
    "    e4.delete('0',END)\n",
    "    e5.delete('0',END)\n",
    "\n",
    "e1 = Entry(master) \n",
    "e2 = Entry(master)\n",
    "e3 = Entry(master) \n",
    "e4 = Entry(master)\n",
    "e5 = Entry(master) \n",
    "\n",
    "Label(master, text='Empno:').pack() \n",
    "e1.pack()\n",
    "Label(master, text='Ename:').pack()\n",
    "e2.pack()\n",
    "Label(master, text='Salary:').pack() \n",
    "e3.pack()\n",
    "Label(master, text='Dno:').pack()\n",
    "e4.pack()\n",
    "Label(master, text='Dept:').pack()  \n",
    "e5.pack()\n",
    "\n",
    "\n",
    "t1=Text(master)\n",
    "t1.pack()\n",
    "b1=Button(master,text=\"Add\",command=add)\n",
    "b1.pack()\n",
    "b2=Button(master,text=\"Display\",command=disp)\n",
    "b2.pack()\n",
    "master.mainloop() "
   ]
  },
  {
   "cell_type": "code",
   "execution_count": null,
   "metadata": {},
   "outputs": [],
   "source": []
  }
 ]
}