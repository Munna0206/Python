{
 "metadata": {
  "language_info": {
   "codemirror_mode": {
    "name": "ipython",
    "version": 3
   },
   "file_extension": ".py",
   "mimetype": "text/x-python",
   "name": "python",
   "nbconvert_exporter": "python",
   "pygments_lexer": "ipython3",
   "version": "3.7.0-final"
  },
  "orig_nbformat": 2,
  "kernelspec": {
   "name": "python3",
   "display_name": "Python 3.7.0 64-bit",
   "metadata": {
    "interpreter": {
     "hash": "a3fc8c9e9fcbfe9bf05300f59effa01cc4d934c9429c337d63336dbf3e5e6d9d"
    }
   }
  }
 },
 "nbformat": 4,
 "nbformat_minor": 2,
 "cells": [
  {
   "cell_type": "code",
   "execution_count": null,
   "metadata": {},
   "outputs": [],
   "source": [
    "#1. Write a program to count the numbers of times a character is present in the string and store them in a dictionary data structure\n",
    "\n",
    "from packages import strcount\n",
    "\n",
    "dict=strcount(input(\"Enter text:\"))\n",
    "print(dict)"
   ]
  },
  {
   "cell_type": "code",
   "execution_count": null,
   "metadata": {},
   "outputs": [],
   "source": [
    "#2 Write a Program to take a string input and sort them based on the number of characters in each word and mention the count of letters in a word at the end.\n",
    "\n",
    "from packages import wordcount\n",
    "\n",
    "str2=input(\"Enter text:\")\n",
    "wordcount(str2)"
   ]
  },
  {
   "cell_type": "code",
   "execution_count": null,
   "metadata": {},
   "outputs": [],
   "source": [
    "#3. Write program to compute gcd, lcm of two numbers\n",
    "\n",
    "from packages import gcd,lcm\n",
    "\n",
    "num1 = 54\n",
    "num2 = 24 \n",
    "\n",
    "print(\"The L.C.M. is\", lcm(num1, num2))\n",
    "print(\"The GCD. is\", gcd(num1, num2))"
   ]
  },
  {
   "cell_type": "code",
   "execution_count": 1,
   "metadata": {},
   "outputs": [
    {
     "output_type": "stream",
     "name": "stdout",
     "text": [
      "Palindrome: {'malayal', 'ayalam', 'laya', 'ay', 'alayal', 'l', 'ma', 'malayala', 'y', 'yal', 'lam', 'a', 'la', 'alaya', 'ayal', 'ya', 'mala', 'malayalam', 'm', 'layal', 'alayalam', 'malay', 'yalam', 'alayala', 'malaya', 'mal', 'lay', 'al', 'ayala', 'alam', 'alay', 'aya', 'am', 'ala', 'layalam', 'layala', 'yala'}\n\nLongest: ['malayalam']\n"
     ]
    }
   ],
   "source": [
    "'''4. Write a program read a string and\n",
    "i. display all palindromes in a string\n",
    "ii. display the longest palindrome from the given string'''\n",
    "from packages import pal\n",
    "pal(input())"
   ]
  },
  {
   "cell_type": "code",
   "execution_count": null,
   "metadata": {},
   "outputs": [],
   "source": [
    "#5 Program to accept a sentence and reverse each word in it\n",
    "from packages import rev\n",
    "\n",
    "rev(input(\"Enter text\"))"
   ]
  },
  {
   "cell_type": "code",
   "execution_count": null,
   "metadata": {},
   "outputs": [],
   "source": [
    "'''6. Program to input a date and validates it in the following conditions\n",
    "a. Should take input in the format DD/MM/YYYY\n",
    "b. YYYY ranges from 1900 to 2050\n",
    "c. Leap Year Validation.'''\n",
    "from packages import date_validation\n",
    "\n",
    "dd,mm,yy=input(\"Enter the date in the format DD/MM/YYYY :\").split('/')\n",
    "dd=int(dd)\n",
    "mm=int(mm)\n",
    "yy=int(yy)\n",
    "if yy >= 1900 and yy <= 2050 and mm>=1 and mm<=12:\n",
    "    date_validation(dd, mm, yy)\n",
    "else:\n",
    "    print(\"Please enter correct year\")"
   ]
  },
  {
   "cell_type": "code",
   "execution_count": null,
   "metadata": {},
   "outputs": [],
   "source": [
    "'''7. Program which\n",
    "a. Takes an input string\n",
    "b. Appends a digit after every character with total count of that character in the string'''\n",
    "from packages import calcfrequency\n",
    "str1 = input(\"Enter a string:\")\n",
    "calcfrequency(str1)"
   ]
  },
  {
   "cell_type": "code",
   "execution_count": null,
   "metadata": {},
   "outputs": [],
   "source": [
    "'''8 Program to take a string as input and do the following:\n",
    "a. ‘a’ should be interpreted as @ in the string\n",
    "b. Whenever it finds a character ‘e’,’m’,’t’,’i’ then it should insert #’,’$’,’%’,’&’ after that\n",
    "character respectively.\n",
    "c. Whenever it finds a blank space it should print the length of the word'''\n",
    "from packages import string_encode\n",
    "\n",
    "strings=input(\"Enter the string\")\n",
    "string_encode(strings)"
   ]
  },
  {
   "cell_type": "code",
   "execution_count": null,
   "metadata": {},
   "outputs": [],
   "source": [
    "#9. Write a Program to remove all characters in second string which are present in the first string.\n",
    "from packages import rm\n",
    "\n",
    "str1=input()\n",
    "str2=input()\n",
    "rm(str1,str2)"
   ]
  },
  {
   "cell_type": "code",
   "execution_count": null,
   "metadata": {},
   "outputs": [],
   "source": [
    "#10 Write a Program to reverse two sets of numbers in the descending order, union in ascending order and intersection in ascending order\n",
    "\n",
    "A={1,2,43,3,2,5}\n",
    "B={1,2,4,6,5}\n",
    "\n",
    "A=sorted(A,reverse=True)\n",
    "B=sorted(B,reverse=True)\n",
    "a=set(sorted(A))\n",
    "b=set(sorted(B))\n",
    "\n",
    "c=a.union(b)\n",
    "d=a.intersection(b)\n",
    "print(\"Reverse Order\",A,B)\n",
    "print(\"Union:\",c,\"\\nIntersection:\",d)"
   ]
  }
 ]
}